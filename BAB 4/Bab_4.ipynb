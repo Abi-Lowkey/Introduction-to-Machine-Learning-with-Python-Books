{
  "nbformat": 4,
  "nbformat_minor": 0,
  "metadata": {
    "colab": {
      "provenance": [],
      "include_colab_link": true
    },
    "kernelspec": {
      "name": "python3",
      "display_name": "Python 3"
    },
    "language_info": {
      "name": "python"
    }
  },
  "cells": [
    {
      "cell_type": "markdown",
      "metadata": {
        "id": "view-in-github",
        "colab_type": "text"
      },
      "source": [
        "<a href=\"https://colab.research.google.com/github/Abi-Lowkey/Introduction-to-Machine-Learning-with-Python-Books/blob/main/BAB%204/Bab_4.ipynb\" target=\"_parent\"><img src=\"https://colab.research.google.com/assets/colab-badge.svg\" alt=\"Open In Colab\"/></a>"
      ]
    },
    {
      "cell_type": "markdown",
      "source": [
        "# **Bab 4: Representing Data and Engineering Features**"
      ],
      "metadata": {
        "id": "6iT3BqHTcLts"
      }
    },
    {
      "cell_type": "markdown",
      "source": [
        "**1. Tujuan**\n",
        "\n",
        "Bab ini bertujuan untuk membahas pentingnya representasi data yang tepat dalam konteks machine learning. Representasi data yang baik sangat penting untuk memastikan model dapat belajar dari data dengan efektif. Salah satu aspek utama dalam proses ini adalah rekayasa fitur (feature engineering), yang merujuk pada teknik-teknik yang digunakan untuk memodifikasi dan mengoptimalkan fitur yang ada dalam dataset agar model machine learning dapat menghasilkan prediksi yang lebih akurat.\n",
        "\n",
        "Beberapa teknik rekayasa fitur yang akan dibahas di bab ini meliputi:\n",
        "\n",
        "- Encoding variabel kategorikal: Mengubah variabel kategori (seperti warna, jenis kelamin, atau status) menjadi format numerik yang dapat digunakan oleh algoritma machine learning.\n",
        "- Binning: Pembagian fitur numerik menjadi kategori yang lebih luas, yang dapat membantu dalam mengurangi noise atau menangani distribusi data yang tidak merata.\n",
        "- Interaksi antar fitur: Membuat fitur baru berdasarkan kombinasi dua atau lebih fitur yang ada, untuk menangkap hubungan atau pola yang lebih kompleks dalam data.\n",
        "- Seleksi fitur: Memilih subset fitur yang paling relevan untuk model, yang dapat membantu meningkatkan akurasi dan mengurangi kompleksitas model."
      ],
      "metadata": {
        "id": "AaZZXmticQqS"
      }
    },
    {
      "cell_type": "markdown",
      "source": [
        "## 2. Implementasi Kode\n",
        "Berikut adalah contoh implementasi teknik rekayasa fitur:\n"
      ],
      "metadata": {
        "id": "0Mlzqb5pcSJz"
      }
    },
    {
      "cell_type": "code",
      "source": [
        "# Mengimpor pustaka pandas yang digunakan untuk manipulasi data di Python.\n",
        "# Pandas menyediakan struktur data seperti DataFrame yang sangat berguna dalam analisis data.\n",
        "import pandas as pd\n"
      ],
      "metadata": {
        "id": "yWjjziLBcUnY"
      },
      "execution_count": 2,
      "outputs": []
    },
    {
      "cell_type": "code",
      "source": [
        "# Membuat dictionary dengan data baru untuk kolom 'Kota' dan 'Harga'.\n",
        "# 'Kota' berisi nama kota dan 'Harga' berisi nilai harga yang terkait.\n",
        "data = {\n",
        "    'Kota': ['Bali', 'Medan', 'Yogyakarta', 'Bali', 'Medan'],\n",
        "    'Harga': [350, 450, 300, 400, 500]\n",
        "}\n",
        "\n",
        "# Mengonversi dictionary menjadi DataFrame menggunakan pandas.\n",
        "df = pd.DataFrame(data)\n",
        "\n",
        "# Menampilkan DataFrame yang telah dibuat.\n",
        "print(\"Data Asli:\\n\", df)\n"
      ],
      "metadata": {
        "colab": {
          "base_uri": "https://localhost:8080/"
        },
        "id": "IZqLGrZ5cZr7",
        "outputId": "43122827-6fdd-44da-b204-2836637d625a"
      },
      "execution_count": 3,
      "outputs": [
        {
          "output_type": "stream",
          "name": "stdout",
          "text": [
            "Data Asli:\n",
            "          Kota  Harga\n",
            "0        Bali    350\n",
            "1       Medan    450\n",
            "2  Yogyakarta    300\n",
            "3        Bali    400\n",
            "4       Medan    500\n"
          ]
        }
      ]
    },
    {
      "cell_type": "code",
      "source": [
        "# Menggunakan pd.get_dummies untuk melakukan One-Hot Encoding pada kolom 'Kota'\n",
        "# Fungsi ini mengubah nilai kategorikal dalam kolom 'Kota' menjadi kolom-kolom baru dengan nilai 0 atau 1.\n",
        "encoded_df = pd.get_dummies(df, columns=['Kota'])\n",
        "\n",
        "# Menampilkan DataFrame yang sudah dikenakan One-Hot Encoding\n",
        "print(\"Data setelah One-Hot Encoding:\\n\", encoded_df)\n"
      ],
      "metadata": {
        "colab": {
          "base_uri": "https://localhost:8080/"
        },
        "id": "hH0g5PjkccDG",
        "outputId": "e767d956-e48d-41f2-d90a-36527fe6aff9"
      },
      "execution_count": 4,
      "outputs": [
        {
          "output_type": "stream",
          "name": "stdout",
          "text": [
            "Data setelah One-Hot Encoding:\n",
            "    Harga  Kota_Bali  Kota_Medan  Kota_Yogyakarta\n",
            "0    350       True       False            False\n",
            "1    450      False        True            False\n",
            "2    300      False       False             True\n",
            "3    400       True       False            False\n",
            "4    500      False        True            False\n"
          ]
        }
      ]
    },
    {
      "cell_type": "code",
      "source": [
        "# Mengimpor pustaka numpy yang digunakan untuk manipulasi array dan operasi numerik di Python.\n",
        "# Numpy menyediakan struktur data array yang efisien dan operasi matematis untuk array tersebut.\n",
        "import numpy as np\n"
      ],
      "metadata": {
        "id": "_1VKVge5ceJK"
      },
      "execution_count": 5,
      "outputs": []
    },
    {
      "cell_type": "code",
      "source": [
        "# Data continuous: Daftar usia individu dalam bentuk list\n",
        "ages = [22, 25, 47, 35, 46, 55, 43, 50]\n",
        "\n",
        "# Definisikan bins untuk mendiskretisasi data usia ke dalam kelompok umur\n",
        "# Setiap bin mewakili rentang usia tertentu, misalnya 20-30, 30-40, dan seterusnya.\n",
        "bins = [20, 30, 40, 50, 60]\n",
        "\n",
        "# Menetapkan label untuk setiap bin, yang akan digunakan sebagai kategori untuk kelompok umur.\n",
        "labels = ['20-30', '30-40', '40-50', '50-60']\n",
        "\n",
        "# Fungsi pd.cut() digunakan untuk membagi data (usia) ke dalam kelompok umur berdasarkan bins yang ditentukan.\n",
        "# Fungsi ini akan mengembalikan kategori atau label kelompok untuk setiap individu.\n",
        "age_bins = pd.cut(ages, bins=bins, labels=labels)\n",
        "\n",
        "# Menampilkan kelompok umur berdasarkan diskretisasi.\n",
        "print(\"Kelompok umur:\", age_bins)\n"
      ],
      "metadata": {
        "colab": {
          "base_uri": "https://localhost:8080/"
        },
        "id": "-DNUC51tch6S",
        "outputId": "d5730c51-f11a-4bc5-d82f-e8f3f72015f9"
      },
      "execution_count": 8,
      "outputs": [
        {
          "output_type": "stream",
          "name": "stdout",
          "text": [
            "Kelompok umur: ['20-30', '20-30', '40-50', '30-40', '40-50', '50-60', '40-50', '40-50']\n",
            "Categories (4, object): ['20-30' < '30-40' < '40-50' < '50-60']\n"
          ]
        }
      ]
    },
    {
      "cell_type": "code",
      "source": [
        "# Mengimpor PolynomialFeatures dari sklearn.preprocessing\n",
        "# PolynomialFeatures digunakan untuk membuat fitur interaksi antar fitur, yaitu menambahkan fitur baru berdasarkan kombinasi dari fitur yang ada.\n",
        "from sklearn.preprocessing import PolynomialFeatures\n"
      ],
      "metadata": {
        "id": "P2k_-Ip1ckTm"
      },
      "execution_count": 9,
      "outputs": []
    },
    {
      "cell_type": "code",
      "source": [
        "# Dataset sederhana dengan dua fitur\n",
        "X = np.array([[1, 2], [2, 3], [3, 4]])\n",
        "\n",
        "# Membuat interaksi fitur dengan PolynomialFeatures\n",
        "# degree=2: Menghasilkan polinomial hingga derajat 2 (termasuk interaksi antar fitur)\n",
        "# interaction_only=True: Hanya menghasilkan fitur interaksi, tanpa kuadrat dari fitur individual\n",
        "# include_bias=False: Tidak menyertakan fitur bias (kolom 1 yang selalu bernilai 1)\n",
        "poly = PolynomialFeatures(degree=2, interaction_only=True, include_bias=False)\n",
        "\n",
        "# Menghitung fitur polinomial dan interaksi untuk X\n",
        "X_poly = poly.fit_transform(X)\n",
        "\n",
        "# Menampilkan data asli dan data dengan interaksi fitur\n",
        "print(\"Data asli:\\n\", X)\n",
        "print(\"Data dengan interaksi fitur:\\n\", X_poly)\n"
      ],
      "metadata": {
        "colab": {
          "base_uri": "https://localhost:8080/"
        },
        "id": "z5FrnEpXcmqy",
        "outputId": "6d33cd0d-2acd-42f6-bb5c-9a9fd3ead56e"
      },
      "execution_count": 10,
      "outputs": [
        {
          "output_type": "stream",
          "name": "stdout",
          "text": [
            "Data asli:\n",
            " [[1 2]\n",
            " [2 3]\n",
            " [3 4]]\n",
            "Data dengan interaksi fitur:\n",
            " [[ 1.  2.  2.]\n",
            " [ 2.  3.  6.]\n",
            " [ 3.  4. 12.]]\n"
          ]
        }
      ]
    },
    {
      "cell_type": "code",
      "source": [
        "# Mengimpor RandomForestClassifier dan SelectFromModel dari sklearn\n",
        "# RandomForestClassifier adalah algoritma ensemble yang digunakan untuk klasifikasi\n",
        "# SelectFromModel digunakan untuk memilih fitur penting berdasarkan model yang telah dilatih\n",
        "from sklearn.ensemble import RandomForestClassifier\n",
        "from sklearn.feature_selection import SelectFromModel\n",
        "\n",
        "# Dataset sederhana dengan tiga fitur\n",
        "X = [[0, 0, 1], [1, 0, 0], [0, 1, 1]]\n",
        "y = [0, 1, 0]\n",
        "\n",
        "# Membuat model RandomForest dengan 10 pohon keputusan\n",
        "clf = RandomForestClassifier(n_estimators=10, random_state=0)\n",
        "\n",
        "# Melatih model RandomForest pada data X dan y\n",
        "clf.fit(X, y)\n",
        "\n",
        "# Menggunakan SelectFromModel untuk memilih fitur yang penting berdasarkan model yang telah dilatih\n",
        "# prefit=True berarti model sudah dilatih sebelumnya\n",
        "model = SelectFromModel(clf, prefit=True)\n",
        "\n",
        "# Mentransform data X untuk memilih hanya fitur yang dianggap penting oleh RandomForest\n",
        "X_new = model.transform(X)\n",
        "\n",
        "# Menampilkan fitur yang dipilih\n",
        "print(\"Fitur yang dipilih:\\n\", X_new)\n"
      ],
      "metadata": {
        "colab": {
          "base_uri": "https://localhost:8080/"
        },
        "id": "WefyJI6jeA1K",
        "outputId": "d604d40b-16dd-4541-ee9c-6fda19a94dc4"
      },
      "execution_count": 11,
      "outputs": [
        {
          "output_type": "stream",
          "name": "stdout",
          "text": [
            "Fitur yang dipilih:\n",
            " [[0 1]\n",
            " [1 0]\n",
            " [0 1]]\n"
          ]
        }
      ]
    },
    {
      "cell_type": "markdown",
      "source": [
        "**3. Penjelasan Teoritis**\n",
        "\n",
        "**3.1 Pentingnya Representasi Data**\n",
        "Representasi data adalah langkah pertama dalam membangun model machine learning yang efektif. Data harus dipersiapkan dengan cara yang sesuai agar model dapat belajar dari informasi yang ada. Tanpa representasi yang baik, model tidak dapat menangkap pola yang relevan, bahkan jika algoritma yang digunakan sudah optimal. Teknik rekayasa fitur sangat berperan dalam mengubah data ke bentuk yang lebih mudah dipahami oleh model.\n",
        "\n",
        "**3.2 Teknik Rekayasa Fitur**\n",
        "One-Hot Encoding: Teknik ini digunakan untuk mengonversi variabel kategorikal (seperti nama kota atau jenis kelamin) menjadi bentuk numerik. Misalnya, \"Kota\" dengan nilai \"Bandung\", \"Jakarta\", dan \"Surabaya\" diubah menjadi 3 kolom biner (0 atau 1). Teknik ini sangat berguna untuk model yang tidak dapat menangani data kategorikal langsung.\n",
        "\n",
        "Binning: Untuk data numerik yang memiliki rentang nilai besar, teknik binning membantu dengan mengelompokkan nilai-nilai tersebut ke dalam interval tertentu (misalnya, kelompok umur). Hal ini dapat mengurangi efek noise atau outlier dalam data dan membuat model lebih stabil.\n",
        "\n",
        "Interaksi Fitur: Teknik ini menggabungkan dua atau lebih fitur untuk menciptakan fitur baru yang lebih informatif. Interaksi antar fitur sering kali diperlukan untuk menangkap hubungan yang tidak dapat dilihat hanya dari fitur individu. Misalnya, kombinasi antara ukuran rumah dan lokasi mungkin memiliki dampak yang lebih signifikan daripada keduanya secara terpisah.\n",
        "\n",
        "Seleksi Fitur: Seleksi fitur adalah teknik yang digunakan untuk memilih subset fitur yang paling relevan dari sekumpulan fitur yang ada. Dengan mengurangi jumlah fitur yang digunakan, kita dapat mempercepat pelatihan model, mengurangi risiko overfitting, dan meningkatkan interpretabilitas model.\n",
        "\n",
        "**3.3 Hubungan dengan Algoritma Machine Learning**\n",
        "Penerapan teknik rekayasa fitur yang tepat tidak hanya memperbaiki performa model tetapi juga mempermudah pemahaman dan interpretasi hasil model. Misalnya, setelah seleksi fitur dilakukan, kita bisa menggunakan model yang lebih sederhana dan lebih cepat, seperti Logistic Regression atau Decision Tree. Sebaliknya, bila terlalu banyak fitur yang tidak relevan atau berisik, model mungkin menjadi lebih kompleks dan berisiko mengalami overfitting.\n",
        "\n",
        "\n",
        "**4. Insight & Ringkasan**\n",
        "Representasi Data: Representasi yang baik sangat penting untuk keberhasilan model machine learning. Tanpa representasi yang sesuai, meskipun model yang digunakan kuat, hasilnya tidak akan maksimal.\n",
        "Rekayasa Fitur: One-Hot Encoding, Binning, Interaksi antar Fitur, dan Seleksi Fitur adalah teknik yang sangat berguna dalam mempersiapkan data untuk algoritma machine learning. Mereka membantu dalam mengoptimalkan data sehingga model dapat belajar dengan cara yang lebih efisien dan efektif.\n",
        "Seleksi Fitur dan Dimensionality Reduction: Seleksi fitur membantu dalam mengurangi kompleksitas model dan meningkatkan efisiensinya. Teknik ini sangat berguna ketika kita bekerja dengan data yang memiliki banyak fitur, namun beberapa di antaranya mungkin tidak relevan."
      ],
      "metadata": {
        "id": "0PuZ21-3eG8p"
      }
    }
  ]
}