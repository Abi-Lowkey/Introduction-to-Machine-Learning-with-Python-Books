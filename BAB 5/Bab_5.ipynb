{
  "nbformat": 4,
  "nbformat_minor": 0,
  "metadata": {
    "colab": {
      "provenance": [],
      "include_colab_link": true
    },
    "kernelspec": {
      "name": "python3",
      "display_name": "Python 3"
    },
    "language_info": {
      "name": "python"
    }
  },
  "cells": [
    {
      "cell_type": "markdown",
      "metadata": {
        "id": "view-in-github",
        "colab_type": "text"
      },
      "source": [
        "<a href=\"https://colab.research.google.com/github/Abi-Lowkey/Introduction-to-Machine-Learning-with-Python-Books/blob/main/BAB%205/Bab_5.ipynb\" target=\"_parent\"><img src=\"https://colab.research.google.com/assets/colab-badge.svg\" alt=\"Open In Colab\"/></a>"
      ]
    },
    {
      "cell_type": "markdown",
      "source": [
        "# **Bab 5: Model Evaluation and Improvement**"
      ],
      "metadata": {
        "id": "QUj2_a9BebSg"
      }
    },
    {
      "cell_type": "markdown",
      "source": [
        "## 1. Tujuan  \n",
        "Bab ini bertujuan untuk membahas berbagai cara mengevaluasi performa model machine learning secara objektif. Evaluasi model bertujuan untuk memahami seberapa baik model dalam membuat prediksi pada data baru yang tidak terlihat selama pelatihan. Selain itu, bab ini juga menjelaskan teknik untuk meningkatkan performa model melalui:  \n",
        "- **Cross-Validation**: Metode untuk memastikan bahwa model tidak overfitting atau underfitting dengan membagi data menjadi beberapa subset pelatihan dan validasi.  \n",
        "- **Grid Search**: Teknik pencarian sistematis untuk menemukan kombinasi parameter terbaik yang memaksimalkan performa model.  \n",
        "- **Pemilihan Metrik Evaluasi**: Panduan dalam memilih metrik yang tepat (seperti akurasi, precision, recall, F1-score) sesuai dengan masalah yang ingin diselesaikan.  "
      ],
      "metadata": {
        "id": "gmpXJS48edXQ"
      }
    },
    {
      "cell_type": "markdown",
      "source": [
        "2. Implementasi Kode"
      ],
      "metadata": {
        "id": "47uX6O8TefHW"
      }
    },
    {
      "cell_type": "code",
      "source": [
        "# Import library yang diperlukan\n",
        "from sklearn.model_selection import cross_val_score\n",
        "from sklearn.ensemble import RandomForestClassifier\n",
        "from sklearn.datasets import load_iris\n",
        "\n",
        "# Load dataset Iris\n",
        "# Dataset ini memiliki fitur untuk spesies bunga Iris yang digunakan dalam klasifikasi\n",
        "iris = load_iris()\n",
        "X, y = iris['data'], iris['target']  # X adalah fitur, y adalah target\n",
        "\n",
        "# Membuat model Random Forest\n",
        "# Random Forest adalah algoritma ensemble yang menggunakan beberapa pohon keputusan untuk membuat prediksi\n",
        "clf = RandomForestClassifier(random_state=0)\n",
        "\n",
        "# Melakukan cross-validation dengan 5-fold\n",
        "# cross_val_score secara otomatis membagi data menjadi 5 subset (fold) untuk validasi silang\n",
        "# Model dilatih pada 4 subset dan diuji pada subset yang tersisa, proses ini diulang untuk setiap fold\n",
        "scores = cross_val_score(clf, X, y, cv=5)\n",
        "\n",
        "# Menampilkan hasil cross-validation\n",
        "# Hasil berupa skor akurasi untuk setiap fold\n",
        "print(\"Cross-validation scores:\", scores)\n",
        "\n",
        "# Menghitung rata-rata skor akurasi dari semua fold\n",
        "# Rata-rata ini memberikan gambaran umum performa model\n",
        "print(\"Rata-rata skor:\", scores.mean())\n"
      ],
      "metadata": {
        "colab": {
          "base_uri": "https://localhost:8080/"
        },
        "id": "Nd7USpwoegtt",
        "outputId": "ab857bbb-6db0-4ef2-f4b0-f077c11a9d6d"
      },
      "execution_count": 1,
      "outputs": [
        {
          "output_type": "stream",
          "name": "stdout",
          "text": [
            "Cross-validation scores: [0.96666667 0.96666667 0.93333333 0.96666667 1.        ]\n",
            "Rata-rata skor: 0.9666666666666668\n"
          ]
        }
      ]
    },
    {
      "cell_type": "code",
      "source": [
        "# Import library yang diperlukan\n",
        "from sklearn.model_selection import GridSearchCV\n",
        "\n",
        "# Membuat parameter grid untuk RandomForest\n",
        "# Parameter yang diuji adalah jumlah pohon dalam hutan ('n_estimators') dan kedalaman maksimum pohon ('max_depth')\n",
        "param_grid = {'n_estimators': [10, 50, 100],  # Jumlah pohon\n",
        "              'max_depth': [None, 10, 20]}    # Kedalaman maksimum pohon\n",
        "\n",
        "# Membuat objek GridSearchCV\n",
        "# GridSearchCV digunakan untuk mencari kombinasi parameter terbaik berdasarkan hasil cross-validation\n",
        "# Model yang diuji adalah RandomForestClassifier dengan validasi silang 5-fold\n",
        "grid_search = GridSearchCV(RandomForestClassifier(random_state=0), param_grid, cv=5)\n",
        "\n",
        "# Melatih model dengan parameter grid pada dataset\n",
        "grid_search.fit(X, y)\n",
        "\n",
        "# Menampilkan parameter terbaik berdasarkan hasil grid search\n",
        "# grid_search.best_params_ memberikan kombinasi parameter yang menghasilkan skor cross-validation terbaik\n",
        "print(\"Best parameters:\", grid_search.best_params_)\n",
        "\n",
        "# Menampilkan skor cross-validation terbaik\n",
        "# grid_search.best_score_ memberikan rata-rata skor cross-validation untuk parameter terbaik\n",
        "print(\"Best cross-validation score:\", grid_search.best_score_)\n"
      ],
      "metadata": {
        "colab": {
          "base_uri": "https://localhost:8080/"
        },
        "id": "AfTni1ZTe0FL",
        "outputId": "a2f80171-4d6e-4c91-99d5-46b1465a10e1"
      },
      "execution_count": 2,
      "outputs": [
        {
          "output_type": "stream",
          "name": "stdout",
          "text": [
            "Best parameters: {'max_depth': None, 'n_estimators': 100}\n",
            "Best cross-validation score: 0.9666666666666668\n"
          ]
        }
      ]
    },
    {
      "cell_type": "markdown",
      "source": [
        "## 3. Penjelasan Teoritis\n",
        "\n",
        "- **Cross-Validation**  \n",
        "Cross-validation adalah teknik evaluasi model yang membagi dataset menjadi beberapa lipatan (folds) untuk melatih dan menguji model secara bergantian. Pendekatan ini memastikan bahwa setiap bagian data digunakan baik untuk pelatihan maupun pengujian, sehingga menghasilkan estimasi performa model yang lebih akurat. Selain itu, cross-validation membantu menghindari overfitting dengan memastikan model diuji pada data yang belum pernah dilihat selama pelatihan. Teknik ini sangat penting untuk memvalidasi kemampuan model dalam generalisasi terhadap data baru.\n",
        "\n",
        "- **Grid Search**  \n",
        "Grid search adalah metode sistematis untuk mencari kombinasi hyperparameter terbaik pada suatu model. Dengan mendefinisikan grid parameter yang ingin diuji, grid search secara otomatis mencoba setiap kombinasi dan mengevaluasi performanya menggunakan validasi silang. Proses ini memastikan bahwa model tidak hanya bekerja optimal pada dataset pelatihan, tetapi juga memiliki performa yang baik pada data yang tidak terlihat. Meskipun memakan waktu, grid search merupakan pendekatan efektif untuk mengoptimalkan hyperparameter model secara objektif.\n",
        "\n",
        "- **Metrik Evaluasi**  \n",
        "Pemilihan metrik evaluasi yang tepat sangat penting dalam membangun model machine learning. Akurasi adalah metrik umum yang digunakan, namun tidak selalu mencerminkan performa model yang sebenarnya, terutama pada dataset yang tidak seimbang. Dalam situasi tertentu, metrik seperti precision, recall, F1-score, atau AUC-ROC lebih relevan. Precision menilai kemampuan model dalam memprediksi kelas positif dengan benar, sementara recall mengukur sejauh mana model dapat menemukan semua data positif. F1-score menggabungkan precision dan recall untuk memberikan keseimbangan antara keduanya. AUC-ROC digunakan untuk mengevaluasi performa model dalam memisahkan kelas pada berbagai threshold.\n",
        "\n",
        "## 4. Insight & Ringkasan\n",
        "\n",
        "- Teknik cross-validation merupakan langkah penting untuk menghindari evaluasi model yang bias, sehingga memberikan gambaran performa yang lebih realistis dan dapat diandalkan.\n",
        "- Penggunaan grid search memungkinkan pencarian hyperparameter terbaik secara sistematis, yang pada akhirnya dapat meningkatkan performa model tanpa intervensi manual yang signifikan.\n",
        "- Memilih metrik evaluasi yang tepat merupakan langkah krusial dalam memastikan bahwa model tidak hanya bekerja dengan baik di atas kertas, tetapi juga relevan dengan tujuan dan kebutuhan aplikasi di dunia nyata."
      ],
      "metadata": {
        "id": "d6cMNUqle41P"
      }
    }
  ]
}